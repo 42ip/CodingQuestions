{
 "cells": [
  {
   "cell_type": "markdown",
   "metadata": {},
   "source": [
    "# N Queens (Using Generator)\n",
    "The following code aims to create a possibility of N Queens using generators.\n",
    "\n",
    "The goals are as follows:\n",
    "- Create a new permutation that satisfies every time yield is called\n",
    "- Print the valid permutation in the console"
   ]
  },
  {
   "cell_type": "markdown",
   "metadata": {},
   "source": [
    "A permutation will be viewed in a form of an array with an array having the size equal to the size of the chess board.\n",
    "\n",
    "An i<sup>th</sup> index in that array would represent i<sup>th</sup> the row of the chess board, while the value at that index would represent the column in which the queen would be present in that row.\n",
    "\n",
    "Example : ```arr = [1,3,0,2]``` would result in the following chess board with 'Q' representing a Queen.\n",
    "\n",
    "```\n",
    "[['_' 'Q' '_' '_']\n",
    " ['_' '_' '_' 'Q']\n",
    " ['Q' '_' '_' '_']\n",
    " ['_' '_' 'Q' '_']]\n",
    " ```"
   ]
  },
  {
   "cell_type": "markdown",
   "metadata": {},
   "source": [
    "We will be using a python package called ```numpy``` which will aid in providing a proper output as required. You could remove the numpy package just to check how it plays a role in formatting the output.\n",
    "\n",
    "We will also use a package called ```time``` to find the time required to generate every output (i.e. making a permutation + Checking if it is valid + other costs)"
   ]
  },
  {
   "cell_type": "code",
   "execution_count": 1,
   "metadata": {},
   "outputs": [],
   "source": [
    "import numpy as np\n",
    "import time"
   ]
  },
  {
   "cell_type": "markdown",
   "metadata": {},
   "source": [
    "## The Chess Board Print Function\n",
    "As we know how our array format and usage will be, let's first make the function that will provide us the ability to print the input array into a chessboard with a Queen at the index mentioned.\n",
    "\n",
    "The function would take in the array as a parameter and print a chessboard using numpy's ```matrix``` function."
   ]
  },
  {
   "cell_type": "code",
   "execution_count": 2,
   "metadata": {},
   "outputs": [],
   "source": [
    "def chessBoardMaker(arr):\n",
    "    mat = [['_' for _ in range(len(arr))] for _ in range(len(arr))]\n",
    "    for i in range(len(arr)):\n",
    "        mat[i][arr[i]] = 'Q'\n",
    "    print(np.matrix(mat))"
   ]
  },
  {
   "cell_type": "markdown",
   "metadata": {},
   "source": [
    "Now use the above above function to run it on any array of your choice. (Do note to keep it 0-indexed)"
   ]
  },
  {
   "cell_type": "code",
   "execution_count": 3,
   "metadata": {},
   "outputs": [
    {
     "output_type": "stream",
     "name": "stdout",
     "text": [
      "[['_' 'Q' '_' '_']\n ['_' '_' '_' 'Q']\n ['Q' '_' '_' '_']\n ['_' '_' 'Q' '_']]\n"
     ]
    }
   ],
   "source": [
    "chessBoardMaker([1,3,0,2])"
   ]
  },
  {
   "cell_type": "markdown",
   "metadata": {},
   "source": [
    "## Chess Board Size\n",
    "Now you need to know the chess board size i.e. how many rows does it have, since a chess board is a square matrix, its rows will always be equal to its columns i.e. it will be a square matrix. So using python's ```input()``` function, we get the user's desired chess board size."
   ]
  },
  {
   "cell_type": "code",
   "execution_count": 4,
   "metadata": {},
   "outputs": [
    {
     "output_type": "stream",
     "name": "stdout",
     "text": [
      "N is 15\n"
     ]
    }
   ],
   "source": [
    "n = int(input())\n",
    "t = 0\n",
    "print(\"N is\", n)"
   ]
  },
  {
   "cell_type": "markdown",
   "metadata": {},
   "source": [
    "## The next step\n",
    "We have to now maker a function called ```checker()``` that checks whether the chess board (in form of an array) is valid or not, and another function called ```maker()``` which will generate the all permutations of where a queen can be present. Both these functions will work hand in hand, i.e. the ```maker()``` will generate permutations by appending the positions of the queen into the array, while the ```checker()``` shall check whether the latest addition will make the array valid or not.\n",
    "\n",
    "Let us use an example to understand how both these functions shall work:\n",
    "\n",
    "We have a chess board of size 4x4.\n",
    "\n",
    "But as we don't know about where the Queens might be placed, we assume array arr as empty i.e. ```arr = []```\n",
    "\n",
    "Let's first consider queen at the first index, so i = 0, since nothing is blocking the queen, it will be valid.\n",
    "\n",
    "```arr = [0]```\n",
    "```\n",
    "[['Q' '_' '_' '_']\n",
    " ['_' '_' '_' '_']\n",
    " ['_' '_' '_' '_']\n",
    " ['_' '_' '_' '_']]\n",
    " ```\n",
    "For the next row, the next queen cannot be placed at 0 or 1st index as a queen can move horizontally, vertically or diagonally, hence we place the next Queen at index 2.\n",
    "\n",
    "```arr = [0,2]```\n",
    "```\n",
    "[['Q' '_' '_' '_']\n",
    " ['_' '_' 'Q' '_']\n",
    " ['_' '_' '_' '_']\n",
    " ['_' '_' '_' '_']]\n",
    " ```\n",
    "Now we cannot add the next Queen i.e. there is no position in the next row for a queen to be placed, this concludes that our assumption is wrong. Hence we go one step back at a time.\n",
    "\n",
    "Our assumption of putting the Queen at (1,2) might be wrong, hence we erase it and put it at (1,3) as it is also valid.\n",
    "\n",
    "```arr = [0,3]```\n",
    "```\n",
    "[['Q' '_' '_' '_']\n",
    " ['_' '_' '_' 'Q']\n",
    " ['_' '_' '_' '_']\n",
    " ['_' '_' '_' '_']]\n",
    " ```\n",
    "\n",
    "Now there is only one possibility in the next row which is (2,1).\n",
    "\n",
    "```arr = [0,3,1]```\n",
    "```\n",
    "[['Q' '_' '_' '_']\n",
    " ['_' '_' '_' 'Q']\n",
    " ['_' 'Q' '_' '_']\n",
    " ['_' '_' '_' '_']]\n",
    " ```\n",
    "\n",
    "Now the next row has no other options to place the queen in, hence we again step back. The row 2's (0-indexed) Queen could have been at a wrong spot, but there is no other spot for it to be at, hence we step back again.\n",
    "\n",
    "Now we check at row 1, but it is at its last index, hence it cannot be a wrong guess, so we step back again.\n",
    "\n",
    "Now we erase the Queen at row 0 as it is a wrong guess and place it at index = 1.\n",
    "\n",
    "```arr = [1]```\n",
    "```\n",
    "[['_' 'Q' '_' '_']\n",
    " ['_' '_' '_' '_']\n",
    " ['_' '_' '_' '_']\n",
    " ['_' '_' '_' '_']]\n",
    " ```\n",
    "\n",
    "The only possibility in row 1 is at index 3.\n",
    "\n",
    "```arr = [1,3]```\n",
    "```\n",
    "[['_' 'Q' '_' '_']\n",
    " ['_' '_' '_' 'Q']\n",
    " ['_' '_' '_' '_']\n",
    " ['_' '_' '_' '_']]\n",
    " ```\n",
    "\n",
    "Now, for the row 2, index 0 is fit for a queen, hence a queen is placed on it.\n",
    "\n",
    "```arr = [1,3,0]```\n",
    "```\n",
    "[['_' 'Q' '_' '_']\n",
    " ['_' '_' '_' 'Q']\n",
    " ['Q' '_' '_' '_']\n",
    " ['_' '_' '_' '_']]\n",
    " ```\n",
    "\n",
    "The last row has only option i.e. index 2.\n",
    "\n",
    "```arr = [1,3,0,2]```\n",
    "```\n",
    "[['_' 'Q' '_' '_']\n",
    " ['_' '_' '_' 'Q']\n",
    " ['Q' '_' '_' '_']\n",
    " ['_' '_' 'Q' '_']]\n",
    " ```\n",
    "\n",
    " There are now ```N``` queens present in a ```NxN``` chess board, hence this a valid permutation, now we print this as the answer.\n",
    "\n",
    "That was an example where we got just one permutation. There will be cases where we will have 20x20 chess board and will be required to generate several permutations. So we follow the algorithm for the functions as below:\n",
    "\n",
    "- Maker Function Algo:\n",
    "    - Check the array size, if it equal to N, then we have generated a permutation, print it out.\n",
    "    - Else, Iterate through the number of rows.\n",
    "        - Place the Queen at the present index\n",
    "        - Check if the array will be valid now by calling ```checker()```.\n",
    "        - If ```checker()``` returns true, continue the process by recursively calling ```maker()``` again.\n",
    "        - As this is a backtracking process, after everything, remove the recently added element from the array ```arr```\n",
    "\n",
    "        \n",
    "- Checker Function Algo:\n",
    "    - A new element has been added at the end of the array.\n",
    "    - Hence, compare each element of the array with it as to know if lies vertically or diagonally against another queen.\n",
    "    - If true, return False\n",
    "    - Else, return True"
   ]
  },
  {
   "cell_type": "code",
   "execution_count": 5,
   "metadata": {},
   "outputs": [],
   "source": [
    "def checker(perm):\n",
    "    if len(perm) == 1:\n",
    "        return True\n",
    "    for i in range(len(perm) - 1):\n",
    "        dif = abs(perm[i] - perm[-1])\n",
    "        if dif == 0 or dif == len(perm) - 1 - i:\n",
    "            return False\n",
    "    return True"
   ]
  },
  {
   "cell_type": "code",
   "execution_count": 6,
   "metadata": {},
   "outputs": [],
   "source": [
    "def maker(n,arr):\n",
    "    if n == len(arr):\n",
    "        global t\n",
    "        t = 1\n",
    "        yield chessBoardMaker(arr)\n",
    "    else:\n",
    "        for i in range(n):\n",
    "            arr.append(i)\n",
    "            if checker(arr):\n",
    "                yield from maker(n,arr)\n",
    "            arr.pop(-1)"
   ]
  },
  {
   "cell_type": "markdown",
   "metadata": {},
   "source": [
    "# Initial Call\n",
    "Now as all ours functions are ready, all we have to is call the ```maker()``` function with its parameters, but as we are using a generator, we will assign to a variable called ```my_gen``` that will be point to a generator associated to the function."
   ]
  },
  {
   "cell_type": "code",
   "execution_count": 7,
   "metadata": {},
   "outputs": [],
   "source": [
    "my_gen = maker(n,[])"
   ]
  },
  {
   "cell_type": "markdown",
   "metadata": {},
   "source": [
    "Now we plan to call our generator as to get a valid chessboard, hence we devise a function that will also help us calculate time taken to find the valid chess board within it."
   ]
  },
  {
   "cell_type": "code",
   "execution_count": 8,
   "metadata": {},
   "outputs": [],
   "source": [
    "def showNextBoard(): \n",
    "    start_time = time.time()\n",
    "    next(my_gen,None)\n",
    "    global t\n",
    "    if t == 0:\n",
    "        print(\"Iteration completed\")\n",
    "    else:\n",
    "        print( \"Time taken : \" + str(time.time() - start_time) + \" SECONDS\")\n",
    "        t = 0"
   ]
  },
  {
   "cell_type": "code",
   "execution_count": 9,
   "metadata": {},
   "outputs": [
    {
     "output_type": "stream",
     "name": "stdout",
     "text": [
      "[['Q' '_' '_' '_' '_' '_' '_' '_' '_' '_' '_' '_' '_' '_' '_']\n ['_' '_' 'Q' '_' '_' '_' '_' '_' '_' '_' '_' '_' '_' '_' '_']\n ['_' '_' '_' '_' 'Q' '_' '_' '_' '_' '_' '_' '_' '_' '_' '_']\n ['_' 'Q' '_' '_' '_' '_' '_' '_' '_' '_' '_' '_' '_' '_' '_']\n ['_' '_' '_' '_' '_' '_' '_' '_' '_' 'Q' '_' '_' '_' '_' '_']\n ['_' '_' '_' '_' '_' '_' '_' '_' '_' '_' '_' 'Q' '_' '_' '_']\n ['_' '_' '_' '_' '_' '_' '_' '_' '_' '_' '_' '_' '_' 'Q' '_']\n ['_' '_' '_' 'Q' '_' '_' '_' '_' '_' '_' '_' '_' '_' '_' '_']\n ['_' '_' '_' '_' '_' '_' '_' '_' '_' '_' '_' '_' 'Q' '_' '_']\n ['_' '_' '_' '_' '_' '_' '_' '_' 'Q' '_' '_' '_' '_' '_' '_']\n ['_' '_' '_' '_' '_' 'Q' '_' '_' '_' '_' '_' '_' '_' '_' '_']\n ['_' '_' '_' '_' '_' '_' '_' '_' '_' '_' '_' '_' '_' '_' 'Q']\n ['_' '_' '_' '_' '_' '_' 'Q' '_' '_' '_' '_' '_' '_' '_' '_']\n ['_' '_' '_' '_' '_' '_' '_' '_' '_' '_' 'Q' '_' '_' '_' '_']\n ['_' '_' '_' '_' '_' '_' '_' 'Q' '_' '_' '_' '_' '_' '_' '_']]\nTime taken : 0.09318399429321289 SECONDS\n"
     ]
    }
   ],
   "source": [
    "showNextBoard()"
   ]
  },
  {
   "cell_type": "code",
   "execution_count": 10,
   "metadata": {},
   "outputs": [
    {
     "output_type": "stream",
     "name": "stdout",
     "text": [
      "[['Q' '_' '_' '_' '_' '_' '_' '_' '_' '_' '_' '_' '_' '_' '_']\n ['_' '_' 'Q' '_' '_' '_' '_' '_' '_' '_' '_' '_' '_' '_' '_']\n ['_' '_' '_' '_' 'Q' '_' '_' '_' '_' '_' '_' '_' '_' '_' '_']\n ['_' '_' '_' '_' '_' '_' 'Q' '_' '_' '_' '_' '_' '_' '_' '_']\n ['_' '_' '_' '_' '_' '_' '_' '_' 'Q' '_' '_' '_' '_' '_' '_']\n ['_' '_' '_' '_' '_' '_' '_' '_' '_' '_' '_' '_' '_' 'Q' '_']\n ['_' '_' '_' '_' '_' '_' '_' '_' '_' '_' '_' 'Q' '_' '_' '_']\n ['_' 'Q' '_' '_' '_' '_' '_' '_' '_' '_' '_' '_' '_' '_' '_']\n ['_' '_' '_' '_' '_' '_' '_' '_' '_' '_' '_' '_' '_' '_' 'Q']\n ['_' '_' '_' '_' '_' '_' '_' 'Q' '_' '_' '_' '_' '_' '_' '_']\n ['_' '_' '_' '_' '_' 'Q' '_' '_' '_' '_' '_' '_' '_' '_' '_']\n ['_' '_' '_' 'Q' '_' '_' '_' '_' '_' '_' '_' '_' '_' '_' '_']\n ['_' '_' '_' '_' '_' '_' '_' '_' '_' 'Q' '_' '_' '_' '_' '_']\n ['_' '_' '_' '_' '_' '_' '_' '_' '_' '_' '_' '_' 'Q' '_' '_']\n ['_' '_' '_' '_' '_' '_' '_' '_' '_' '_' 'Q' '_' '_' '_' '_']]\nTime taken : 0.2981851100921631 SECONDS\n"
     ]
    }
   ],
   "source": [
    "showNextBoard()"
   ]
  },
  {
   "cell_type": "code",
   "execution_count": null,
   "metadata": {},
   "outputs": [],
   "source": []
  }
 ],
 "metadata": {
  "kernelspec": {
   "name": "python3",
   "display_name": "Python 3.9.5 64-bit"
  },
  "language_info": {
   "codemirror_mode": {
    "name": "ipython",
    "version": 3
   },
   "file_extension": ".py",
   "mimetype": "text/x-python",
   "name": "python",
   "nbconvert_exporter": "python",
   "pygments_lexer": "ipython3",
   "version": "3.9.5"
  },
  "metadata": {
   "interpreter": {
    "hash": "4cd7ab41f5fca4b9b44701077e38c5ffd31fe66a6cab21e0214b68d958d0e462"
   }
  },
  "interpreter": {
   "hash": "4cd7ab41f5fca4b9b44701077e38c5ffd31fe66a6cab21e0214b68d958d0e462"
  }
 },
 "nbformat": 4,
 "nbformat_minor": 2
}